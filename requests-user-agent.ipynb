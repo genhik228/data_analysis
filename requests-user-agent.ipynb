{
 "cells": [
  {
   "cell_type": "code",
   "execution_count": 3,
   "id": "9d82a477",
   "metadata": {},
   "outputs": [],
   "source": [
    "import requests\n",
    "\n",
    "url = 'https://stat4market.com'\n",
    "\n",
    "# Важно. По умолчанию requests отправляет вот такой \n",
    "# заголовок 'User-Agent': 'python-requests/2.22.0 ,  а это приводит к тому , что Nginx\n",
    "# отправляет 404 ответ. Поэтому нам нужно сообщить серверу, что запрос идет от браузера  \n",
    "\n",
    "user_agent_val = 'Mozilla/5.0 (Windows NT 10.0; Win64; x64) AppleWebKit/537.36 (KHTML, like Gecko) Chrome/75.0.3770.142 Safari/537.36'\n",
    "\n",
    "# Создаем сессию и указываем ему наш user-agent\n",
    "session = requests.Session()\n",
    "r = session.get(url, headers = {\n",
    "    'User-Agent': user_agent_val\n",
    "})\n",
    "\n",
    "# Указываем referer. Иногда , если не указать , то приводит к ошибкам. \n",
    "session.headers.update({'Referer':url})\n",
    "\n",
    "#Хотя , мы ранее указывали наш user-agent и запрос удачно прошел и вернул \n",
    "# нам нужный ответ, но user-agent изменился на тот , который был \n",
    "# по умолчанию. И поэтому мы обновляем его.\n",
    "session.headers.update({'User-Agent':user_agent_val})\n",
    "\n",
    "# Получаем значение _xsrf из cookies\n",
    "_xsrf = session.cookies.get('_xsrf', domain=\"stat4market.com\")\n",
    "\n",
    "# Осуществляем вход с помощью метода POST с указанием необходимых данных \n",
    "post_request = session.post(url, {\n",
    "     'backUrl': 'https://moscow.hh.ru/',\n",
    "     'username': 'yourlogin',\n",
    "     'password': 'yourpassword',\n",
    "     '_xsrf':_xsrf,\n",
    "     'remember':'yes',\n",
    "})\n",
    "\n",
    "#Вход успешно воспроизведен и мы сохраняем страницу в html файл\n",
    "with open(\"hh_success.html\",\"w\",encoding=\"utf-8\") as f:\n",
    "    f.write(post_request.text)"
   ]
  },
  {
   "cell_type": "code",
   "execution_count": null,
   "id": "e302306e",
   "metadata": {},
   "outputs": [],
   "source": []
  }
 ],
 "metadata": {
  "kernelspec": {
   "display_name": "Python 3 (ipykernel)",
   "language": "python",
   "name": "python3"
  },
  "language_info": {
   "codemirror_mode": {
    "name": "ipython",
    "version": 3
   },
   "file_extension": ".py",
   "mimetype": "text/x-python",
   "name": "python",
   "nbconvert_exporter": "python",
   "pygments_lexer": "ipython3",
   "version": "3.9.12"
  }
 },
 "nbformat": 4,
 "nbformat_minor": 5
}
